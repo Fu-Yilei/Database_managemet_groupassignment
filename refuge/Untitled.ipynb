{
 "cells": [
  {
   "cell_type": "code",
   "execution_count": 2,
   "metadata": {
    "collapsed": false
   },
   "outputs": [],
   "source": [
    "from datascience import *\n",
    "import pymysql\n",
    "conn=pymysql.connect(host='localhost',user='root',passwd='fuyilei@96',db='Refugee',port=3306)"
   ]
  },
  {
   "cell_type": "code",
   "execution_count": 3,
   "metadata": {
    "collapsed": false
   },
   "outputs": [],
   "source": [
    "asylum_statistics = Table().read_table(\"asylum_statistics.csv\")\n",
    "affirmative_asylum = Table.read_table(\"affirmative_asylum.csv\")\n",
    "defensive_asylum = Table.read_table(\"defensive_asylum.csv\")\n",
    "refugee_statistics = Table.read_table(\"refugee_statistics.csv\")\n",
    "refugee_status = Table.read_table(\"refugee_status.csv\")"
   ]
  },
  {
   "cell_type": "code",
   "execution_count": 4,
   "metadata": {
    "collapsed": true
   },
   "outputs": [],
   "source": [
    "cur = conn.cursor()"
   ]
  },
  {
   "cell_type": "code",
   "execution_count": 5,
   "metadata": {
    "collapsed": false
   },
   "outputs": [
    {
     "data": {
      "text/html": [
       "<table border=\"1\" class=\"dataframe\">\n",
       "    <thead>\n",
       "        <tr>\n",
       "            <th>Sex/Age/Marital Status</th> <th>Applicants</th> <th>Spouses</th> <th>Children</th> <th>All Asylum Recipients</th>\n",
       "        </tr>\n",
       "    </thead>\n",
       "    <tbody>\n",
       "        <tr>\n",
       "            <td>Female                </td> <td>6,332     </td> <td>896    </td> <td>1,227   </td> <td>8,455                </td>\n",
       "        </tr>\n",
       "    </tbody>\n",
       "        <tr>\n",
       "            <td>Male                  </td> <td>7,167     </td> <td>940    </td> <td>1,316   </td> <td>9,423                </td>\n",
       "        </tr>\n",
       "    </tbody>\n",
       "        <tr>\n",
       "            <td>Under 16 Years        </td> <td>1,637     </td> <td>-      </td> <td>2,059   </td> <td>3,696                </td>\n",
       "        </tr>\n",
       "    </tbody>\n",
       "        <tr>\n",
       "            <td>16 to 20 Years        </td> <td>3,291     </td> <td>3      </td> <td>423     </td> <td>3,717                </td>\n",
       "        </tr>\n",
       "    </tbody>\n",
       "        <tr>\n",
       "            <td>21 Years and Over     </td> <td>8,571     </td> <td>1,833  </td> <td>61      </td> <td>10,465               </td>\n",
       "        </tr>\n",
       "    </tbody>\n",
       "        <tr>\n",
       "            <td>Under 1 Year          </td> <td>-         </td> <td>-      </td> <td>3       </td> <td>3                    </td>\n",
       "        </tr>\n",
       "    </tbody>\n",
       "        <tr>\n",
       "            <td>1 to 4 Years          </td> <td>21        </td> <td>-      </td> <td>476     </td> <td>497                  </td>\n",
       "        </tr>\n",
       "    </tbody>\n",
       "        <tr>\n",
       "            <td>5 to 9 Years          </td> <td>203       </td> <td>-      </td> <td>817     </td> <td>1,020                </td>\n",
       "        </tr>\n",
       "    </tbody>\n",
       "        <tr>\n",
       "            <td>10 to 14 Years        </td> <td>982       </td> <td>-      </td> <td>643     </td> <td>1,625                </td>\n",
       "        </tr>\n",
       "    </tbody>\n",
       "        <tr>\n",
       "            <td>15 to 19 Years        </td> <td>3,450     </td> <td>D      </td> <td>D       </td> <td>3,928                </td>\n",
       "        </tr>\n",
       "    </tbody>\n",
       "        <tr>\n",
       "            <td>20 to 24 Years        </td> <td>1,219     </td> <td>61     </td> <td>125     </td> <td>1,405                </td>\n",
       "        </tr>\n",
       "    </tbody>\n",
       "        <tr>\n",
       "            <td>25 to 29 Years        </td> <td>1,936     </td> <td>D      </td> <td>D       </td> <td>2,266                </td>\n",
       "        </tr>\n",
       "    </tbody>\n",
       "        <tr>\n",
       "            <td>30 to 34 Years        </td> <td>1,786     </td> <td>D      </td> <td>D       </td> <td>2,235                </td>\n",
       "        </tr>\n",
       "    </tbody>\n",
       "        <tr>\n",
       "            <td>35 to 39 Years        </td> <td>1,414     </td> <td>349    </td> <td>-       </td> <td>1,763                </td>\n",
       "        </tr>\n",
       "    </tbody>\n",
       "        <tr>\n",
       "            <td>40 to 44 Years        </td> <td>1,018     </td> <td>266    </td> <td>-       </td> <td>1,284                </td>\n",
       "        </tr>\n",
       "    </tbody>\n",
       "        <tr>\n",
       "            <td>45 to 49 Years        </td> <td>595       </td> <td>167    </td> <td>-       </td> <td>762                  </td>\n",
       "        </tr>\n",
       "    </tbody>\n",
       "        <tr>\n",
       "            <td>50 to 54 Years        </td> <td>387       </td> <td>85     </td> <td>-       </td> <td>472                  </td>\n",
       "        </tr>\n",
       "    </tbody>\n",
       "        <tr>\n",
       "            <td>55 to 59 Years        </td> <td>194       </td> <td>60     </td> <td>-       </td> <td>254                  </td>\n",
       "        </tr>\n",
       "    </tbody>\n",
       "        <tr>\n",
       "            <td>60 to 64 Years        </td> <td>115       </td> <td>26     </td> <td>-       </td> <td>141                  </td>\n",
       "        </tr>\n",
       "    </tbody>\n",
       "        <tr>\n",
       "            <td>65 to 74 Years        </td> <td>110       </td> <td>36     </td> <td>-       </td> <td>146                  </td>\n",
       "        </tr>\n",
       "    </tbody>\n",
       "        <tr>\n",
       "            <td>75 Years and Over     </td> <td>69        </td> <td>8      </td> <td>-       </td> <td>77                   </td>\n",
       "        </tr>\n",
       "    </tbody>\n",
       "        <tr>\n",
       "            <td>Married               </td> <td>4,351     </td> <td>1,836  </td> <td>-       </td> <td>6,187                </td>\n",
       "        </tr>\n",
       "    </tbody>\n",
       "        <tr>\n",
       "            <td>Single                </td> <td>8,448     </td> <td>-      </td> <td>2,543   </td> <td>10,991               </td>\n",
       "        </tr>\n",
       "    </tbody>\n",
       "        <tr>\n",
       "            <td>Widowed               </td> <td>200       </td> <td>-      </td> <td>-       </td> <td>200                  </td>\n",
       "        </tr>\n",
       "    </tbody>\n",
       "        <tr>\n",
       "            <td>Divorced/Separated    </td> <td>480       </td> <td>-      </td> <td>-       </td> <td>480                  </td>\n",
       "        </tr>\n",
       "    </tbody>\n",
       "        <tr>\n",
       "            <td>Marital Status Unknown</td> <td>20        </td> <td>-      </td> <td>-       </td> <td>20                   </td>\n",
       "        </tr>\n",
       "    </tbody>\n",
       "        <tr>\n",
       "            <td>Total                 </td> <td>13,499    </td> <td>1,836  </td> <td>2,543   </td> <td>17,878               </td>\n",
       "        </tr>\n",
       "    </tbody>\n",
       "</table>"
      ],
      "text/plain": [
       "<IPython.core.display.HTML object>"
      ]
     },
     "metadata": {},
     "output_type": "display_data"
    }
   ],
   "source": [
    "asylum_statistics.show()"
   ]
  },
  {
   "cell_type": "code",
   "execution_count": 6,
   "metadata": {
    "collapsed": false
   },
   "outputs": [
    {
     "data": {
      "text/plain": [
       "array(['Africa', 'Asia', 'Europe', 'North America', 'Oceania',\n",
       "       'South America', 'Unknown', 'Afghanistan', 'Albania', 'Algeria',\n",
       "       'Angola', 'Armenia', 'Azerbaijan', 'Bahrain', 'Bangladesh',\n",
       "       'Belarus', 'Bhutan', 'Bolivia', 'Bosnia-Herzegovina', 'Brazil',\n",
       "       'Bulgaria', 'Burkina Faso', 'Burma', 'Burundi', 'Cambodia',\n",
       "       'Cameroon', 'Central African Republic', 'Chad',\n",
       "       \"China, People's Republic\", 'Colombia',\n",
       "       'Congo, Democratic Republic', 'Congo, Republic', \"Cote d'Ivoire\",\n",
       "       'Cuba', 'Djibouti', 'Dominican Republic', 'Ecuador', 'Egypt',\n",
       "       'El Salvador', 'Eritrea', 'Ethiopia', 'Fiji', 'Gambia', 'Georgia',\n",
       "       'Ghana', 'Guatemala', 'Guinea', 'Guyana', 'Haiti', 'Honduras',\n",
       "       'India', 'Indonesia', 'Iran', 'Iraq', 'Israel', 'Jamaica', 'Jordan',\n",
       "       'Kazakhstan', 'Kenya', 'Kosovo', 'Kuwait', 'Kyrgyzstan', 'Laos',\n",
       "       'Lebanon', 'Liberia', 'Libya', 'Macedonia', 'Madagascar',\n",
       "       'Malaysia', 'Mali', 'Mauritania', 'Mexico', 'Moldova', 'Mongolia',\n",
       "       'Morocco', 'Nepal', 'Nicaragua', 'Niger', 'Nigeria', 'Pakistan',\n",
       "       'Peru', 'Philippines', 'Romania', 'Russia', 'Rwanda',\n",
       "       'Saudi Arabia', 'Senegal', 'Serbia and Montenegro (former)',\n",
       "       'Sierra Leone', 'Somalia', 'Sri Lanka', 'Sudan', 'Syria',\n",
       "       'Tajikistan', 'Tanzania', 'Togo', 'Turkey', 'Turkmenistan',\n",
       "       'Uganda', 'Ukraine', 'United Arab Emirates', 'Uzbekistan',\n",
       "       'Venezuela', 'Vietnam', 'Yemen', 'Zimbabwe', 'Other', 'Unknown',\n",
       "       'Total'], \n",
       "      dtype='<U30')"
      ]
     },
     "execution_count": 6,
     "metadata": {},
     "output_type": "execute_result"
    }
   ],
   "source": [
    "affirmative_asylum.column(0)"
   ]
  },
  {
   "cell_type": "code",
   "execution_count": 7,
   "metadata": {
    "collapsed": false
   },
   "outputs": [
    {
     "data": {
      "text/html": [
       "<table border=\"1\" class=\"dataframe\">\n",
       "    <thead>\n",
       "        <tr>\n",
       "            <th>Continent/Country of Nationality</th> <th>2006</th> <th>2007</th> <th>2008</th> <th>2009</th> <th>2010</th> <th>2011</th> <th>2012</th> <th>2013</th> <th>2014</th> <th>2015</th>\n",
       "        </tr>\n",
       "    </thead>\n",
       "    <tbody>\n",
       "        <tr>\n",
       "            <td>Africa                          </td> <td>2,830</td> <td>2,522</td> <td>2,046</td> <td>2,326</td> <td>1,912</td> <td>2,340</td> <td>2,118</td> <td>1,976</td> <td>1,697</td> <td>1,380</td>\n",
       "        </tr>\n",
       "    </tbody>\n",
       "        <tr>\n",
       "            <td>Asia                            </td> <td>6,668</td> <td>6,707</td> <td>5,509</td> <td>5,423</td> <td>4,872</td> <td>5,855</td> <td>6,745</td> <td>6,137</td> <td>5,445</td> <td>4,803</td>\n",
       "        </tr>\n",
       "    </tbody>\n",
       "        <tr>\n",
       "            <td>Europe                          </td> <td>1,441</td> <td>1,318</td> <td>1,177</td> <td>928  </td> <td>746  </td> <td>864  </td> <td>823  </td> <td>872  </td> <td>654  </td> <td>538  </td>\n",
       "        </tr>\n",
       "    </tbody>\n",
       "        <tr>\n",
       "            <td>North America                   </td> <td>1,007</td> <td>1,071</td> <td>1,083</td> <td>855  </td> <td>489  </td> <td>535  </td> <td>632  </td> <td>681  </td> <td>745  </td> <td>1,299</td>\n",
       "        </tr>\n",
       "    </tbody>\n",
       "        <tr>\n",
       "            <td>Oceania                         </td> <td>45   </td> <td>25   </td> <td>36   </td> <td>32   </td> <td>16   </td> <td>23   </td> <td>20   </td> <td>9    </td> <td>7    </td> <td>8    </td>\n",
       "        </tr>\n",
       "    </tbody>\n",
       "        <tr>\n",
       "            <td>South America                   </td> <td>1,226</td> <td>1,132</td> <td>975  </td> <td>646  </td> <td>392  </td> <td>406  </td> <td>269  </td> <td>216  </td> <td>203  </td> <td>170  </td>\n",
       "        </tr>\n",
       "    </tbody>\n",
       "        <tr>\n",
       "            <td>Unknown                         </td> <td>87   </td> <td>84   </td> <td>66   </td> <td>90   </td> <td>92   </td> <td>115  </td> <td>111  </td> <td>55   </td> <td>40   </td> <td>48   </td>\n",
       "        </tr>\n",
       "    </tbody>\n",
       "        <tr>\n",
       "            <td>Afghanistan                     </td> <td>25   </td> <td>22   </td> <td>28   </td> <td>7    </td> <td>5    </td> <td>18   </td> <td>34   </td> <td>16   </td> <td>18   </td> <td>13   </td>\n",
       "        </tr>\n",
       "    </tbody>\n",
       "        <tr>\n",
       "            <td>Albania                         </td> <td>497  </td> <td>421  </td> <td>324  </td> <td>213  </td> <td>103  </td> <td>101  </td> <td>72   </td> <td>71   </td> <td>66   </td> <td>75   </td>\n",
       "        </tr>\n",
       "    </tbody>\n",
       "        <tr>\n",
       "            <td>Algeria                         </td> <td>13   </td> <td>6    </td> <td>5    </td> <td>6    </td> <td>-    </td> <td>4    </td> <td>6    </td> <td>D    </td> <td>D    </td> <td>D    </td>\n",
       "        </tr>\n",
       "    </tbody>\n",
       "</table>\n",
       "<p>... (101 rows omitted)</p"
      ],
      "text/plain": [
       "Continent/Country of Nationality | 2006  | 2007  | 2008  | 2009  | 2010  | 2011  | 2012  | 2013  | 2014  | 2015\n",
       "Africa                           | 2,830 | 2,522 | 2,046 | 2,326 | 1,912 | 2,340 | 2,118 | 1,976 | 1,697 | 1,380\n",
       "Asia                             | 6,668 | 6,707 | 5,509 | 5,423 | 4,872 | 5,855 | 6,745 | 6,137 | 5,445 | 4,803\n",
       "Europe                           | 1,441 | 1,318 | 1,177 | 928   | 746   | 864   | 823   | 872   | 654   | 538\n",
       "North America                    | 1,007 | 1,071 | 1,083 | 855   | 489   | 535   | 632   | 681   | 745   | 1,299\n",
       "Oceania                          | 45    | 25    | 36    | 32    | 16    | 23    | 20    | 9     | 7     | 8\n",
       "South America                    | 1,226 | 1,132 | 975   | 646   | 392   | 406   | 269   | 216   | 203   | 170\n",
       "Unknown                          | 87    | 84    | 66    | 90    | 92    | 115   | 111   | 55    | 40    | 48\n",
       "Afghanistan                      | 25    | 22    | 28    | 7     | 5     | 18    | 34    | 16    | 18    | 13\n",
       "Albania                          | 497   | 421   | 324   | 213   | 103   | 101   | 72    | 71    | 66    | 75\n",
       "Algeria                          | 13    | 6     | 5     | 6     | -     | 4     | 6     | D     | D     | D\n",
       "... (101 rows omitted)"
      ]
     },
     "execution_count": 7,
     "metadata": {},
     "output_type": "execute_result"
    }
   ],
   "source": [
    "defensive_asylum"
   ]
  },
  {
   "cell_type": "code",
   "execution_count": 8,
   "metadata": {
    "collapsed": false
   },
   "outputs": [
    {
     "data": {
      "text/html": [
       "<table border=\"1\" class=\"dataframe\">\n",
       "    <thead>\n",
       "        <tr>\n",
       "            <th>Sex/Age/Marital Status</th> <th>Applicants</th> <th>Spouses</th> <th>Children</th> <th>All Refugees</th>\n",
       "        </tr>\n",
       "    </thead>\n",
       "    <tbody>\n",
       "        <tr>\n",
       "            <td>Female                </td> <td>10,082    </td> <td>8,688  </td> <td>14,565  </td> <td>33,335      </td>\n",
       "        </tr>\n",
       "    </tbody>\n",
       "        <tr>\n",
       "            <td>Male                  </td> <td>18,317    </td> <td>2,104  </td> <td>16,163  </td> <td>36,584      </td>\n",
       "        </tr>\n",
       "    </tbody>\n",
       "        <tr>\n",
       "            <td>Sex Unknown           </td> <td>1         </td> <td>-      </td> <td>-       </td> <td>1           </td>\n",
       "        </tr>\n",
       "    </tbody>\n",
       "        <tr>\n",
       "            <td>Under 16 Years        </td> <td>679       </td> <td>-      </td> <td>24,309  </td> <td>24,988      </td>\n",
       "        </tr>\n",
       "    </tbody>\n",
       "        <tr>\n",
       "            <td>16 to 20 Years        </td> <td>1,354     </td> <td>176    </td> <td>5,376   </td> <td>6,906       </td>\n",
       "        </tr>\n",
       "    </tbody>\n",
       "        <tr>\n",
       "            <td>21 Years and Over     </td> <td>26,367    </td> <td>10,616 </td> <td>1,043   </td> <td>38,026      </td>\n",
       "        </tr>\n",
       "    </tbody>\n",
       "        <tr>\n",
       "            <td>Under 1 Year          </td> <td>4         </td> <td>-      </td> <td>235     </td> <td>239         </td>\n",
       "        </tr>\n",
       "    </tbody>\n",
       "        <tr>\n",
       "            <td>1 to 4 Years          </td> <td>118       </td> <td>-      </td> <td>7,571   </td> <td>7,689       </td>\n",
       "        </tr>\n",
       "    </tbody>\n",
       "        <tr>\n",
       "            <td>5 to 9 Years          </td> <td>132       </td> <td>-      </td> <td>8,138   </td> <td>8,270       </td>\n",
       "        </tr>\n",
       "    </tbody>\n",
       "        <tr>\n",
       "            <td>10 to 14 Years        </td> <td>316       </td> <td>-      </td> <td>7,060   </td> <td>7,376       </td>\n",
       "        </tr>\n",
       "    </tbody>\n",
       "</table>\n",
       "<p>... (18 rows omitted)</p"
      ],
      "text/plain": [
       "Sex/Age/Marital Status | Applicants | Spouses | Children | All Refugees\n",
       "Female                 | 10,082     | 8,688   | 14,565   | 33,335\n",
       "Male                   | 18,317     | 2,104   | 16,163   | 36,584\n",
       "Sex Unknown            | 1          | -       | -        | 1\n",
       "Under 16 Years         | 679        | -       | 24,309   | 24,988\n",
       "16 to 20 Years         | 1,354      | 176     | 5,376    | 6,906\n",
       "21 Years and Over      | 26,367     | 10,616  | 1,043    | 38,026\n",
       "Under 1 Year           | 4          | -       | 235      | 239\n",
       "1 to 4 Years           | 118        | -       | 7,571    | 7,689\n",
       "5 to 9 Years           | 132        | -       | 8,138    | 8,270\n",
       "10 to 14 Years         | 316        | -       | 7,060    | 7,376\n",
       "... (18 rows omitted)"
      ]
     },
     "execution_count": 8,
     "metadata": {},
     "output_type": "execute_result"
    }
   ],
   "source": [
    "refugee_statistics"
   ]
  },
  {
   "cell_type": "code",
   "execution_count": null,
   "metadata": {
    "collapsed": false
   },
   "outputs": [],
   "source": []
  },
  {
   "cell_type": "code",
   "execution_count": null,
   "metadata": {
    "collapsed": true
   },
   "outputs": [],
   "source": []
  }
 ],
 "metadata": {
  "anaconda-cloud": {},
  "kernelspec": {
   "display_name": "Python [conda root]",
   "language": "python",
   "name": "conda-root-py"
  },
  "language_info": {
   "codemirror_mode": {
    "name": "ipython",
    "version": 3
   },
   "file_extension": ".py",
   "mimetype": "text/x-python",
   "name": "python",
   "nbconvert_exporter": "python",
   "pygments_lexer": "ipython3",
   "version": "3.5.2"
  }
 },
 "nbformat": 4,
 "nbformat_minor": 1
}
