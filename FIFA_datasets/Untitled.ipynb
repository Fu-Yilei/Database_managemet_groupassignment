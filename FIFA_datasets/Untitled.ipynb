{
 "cells": [
  {
   "cell_type": "code",
   "execution_count": 36,
   "metadata": {
    "collapsed": true
   },
   "outputs": [],
   "source": [
    "from datascience import *\n",
    "import codecs\n",
    "import csv\n",
    "from bs4 import BeautifulSoup\n",
    "import numpy as np"
   ]
  },
  {
   "cell_type": "code",
   "execution_count": 37,
   "metadata": {
    "collapsed": false
   },
   "outputs": [],
   "source": [
    "\n",
    "data = []\n",
    "soup = BeautifulSoup(open(\"FIFA//2014 FIFA World Cup squads - Wikipedia.html\",encoding = \"utf-8\"),\"lxml\")\n",
    "count = 0\n",
    "Whole_table = []\n",
    "temp = []\n",
    "all_tables = (soup.findChildren('table',attrs = {'class':'sortable wikitable plainrowheaders jquery-tablesorter'}))\n",
    "for tables in all_tables:\n",
    "    rows = tables.findChildren(['tr','th'])\n",
    "    for row in rows:\n",
    "        cells = row.findChildren(['td','th'])\n",
    "        for cell in cells:\n",
    "            \n",
    "            if cell.string != 'No.' and cell.string !='Pos.' and cell.string != 'Player' and cell.string !='Date of birth (age)' and cell.string !='Caps' and cell.string !='Club':\n",
    "                count = count+1\n",
    "                temp.append(cell)\n",
    "                if count == 6:\n",
    "                    Whole_table.append(temp)\n",
    "                    temp = []\n",
    "                    count = 0\n",
    "\n",
    "                \n",
    "temp = []\n",
    "RealData = []\n",
    "for item in Whole_table:\n",
    "    \n",
    "    Number = item[0].string\n",
    "    Name = item[2].find('a').string\n",
    "    Position = item[1].find('a').string\n",
    "    Birthday = item[3].find('span').find('span').string.split('-')\n",
    "    Birthday_year = Birthday[0]\n",
    "    Birthday_month = Birthday[1]\n",
    "    Birthday_day = Birthday[2]\n",
    "    Caps = item[4].string\n",
    "    Club = item[5].find_all('a')[1].string\n",
    "    \n",
    "    temp.append(str(Number))\n",
    "    temp.append(str(Position))\n",
    "    temp.append(str(Name))\n",
    "    temp.append(str(Birthday_year))\n",
    "    temp.append(str(Birthday_month))\n",
    "    temp.append(str(Birthday_day))\n",
    "    temp.append(str(Caps))\n",
    "    temp.append(str(Club))\n",
    "    RealData.append(temp)\n",
    "    temp = []"
   ]
  },
  {
   "cell_type": "code",
   "execution_count": 45,
   "metadata": {
    "collapsed": false
   },
   "outputs": [
    {
     "ename": "AttributeError",
     "evalue": "'list' object has no attribute 'encoding'",
     "output_type": "error",
     "traceback": [
      "\u001b[0;31m---------------------------------------------------------------------------\u001b[0m",
      "\u001b[0;31mAttributeError\u001b[0m                            Traceback (most recent call last)",
      "\u001b[0;32m<ipython-input-45-e59bafa5ae58>\u001b[0m in \u001b[0;36m<module>\u001b[0;34m()\u001b[0m\n\u001b[1;32m     10\u001b[0m ) \n\u001b[1;32m     11\u001b[0m \u001b[1;32mfor\u001b[0m \u001b[0mi\u001b[0m \u001b[1;32min\u001b[0m \u001b[0mRealData\u001b[0m\u001b[1;33m:\u001b[0m\u001b[1;33m\u001b[0m\u001b[0m\n\u001b[0;32m---> 12\u001b[0;31m     \u001b[0mPlayers\u001b[0m \u001b[1;33m=\u001b[0m \u001b[0mPlayers\u001b[0m\u001b[1;33m.\u001b[0m\u001b[0mwith_row\u001b[0m\u001b[1;33m(\u001b[0m\u001b[0mi\u001b[0m\u001b[1;33m.\u001b[0m\u001b[0mencoding\u001b[0m\u001b[1;33m(\u001b[0m\u001b[1;34m\"utf-16\"\u001b[0m\u001b[1;33m)\u001b[0m\u001b[1;33m)\u001b[0m\u001b[1;33m\u001b[0m\u001b[0m\n\u001b[0m\u001b[1;32m     13\u001b[0m \u001b[1;31m# Players.group(\"Name\")\u001b[0m\u001b[1;33m\u001b[0m\u001b[1;33m\u001b[0m\u001b[0m\n\u001b[1;32m     14\u001b[0m \u001b[0mPlayers\u001b[0m \u001b[1;33m=\u001b[0m \u001b[0mPlayers\u001b[0m\u001b[1;33m.\u001b[0m\u001b[0mdrop\u001b[0m\u001b[1;33m(\u001b[0m\u001b[1;34m\"id\"\u001b[0m\u001b[1;33m)\u001b[0m\u001b[1;33m.\u001b[0m\u001b[0msort\u001b[0m\u001b[1;33m(\u001b[0m\u001b[1;36m1\u001b[0m\u001b[1;33m)\u001b[0m\u001b[1;33m\u001b[0m\u001b[0m\n",
      "\u001b[0;31mAttributeError\u001b[0m: 'list' object has no attribute 'encoding'"
     ]
    }
   ],
   "source": [
    "Players = Table().with_columns(\n",
    "\"id\", [],\n",
    "\"Position\", [],\n",
    "\"Name\", [],\n",
    "\"Birthday_year\", [],\n",
    "\"Birthday_month\", [],\n",
    "\"Birthday_day\", [],\n",
    "\"Caps\", [],\n",
    "\"Club\", []\n",
    ") \n",
    "for i in RealData:\n",
    "    Players = Players.with_row(i)\n",
    "# Players.group(\"Name\")\n",
    "Players = Players.drop(\"id\").sort(1)\n",
    "Players = Players.with_column(\"id\", np.arange(len(Players.column(1))))\n",
    "# Players.to_csv(\"My_Players.csv\")\n",
    "Players"
   ]
  },
  {
   "cell_type": "code",
   "execution_count": null,
   "metadata": {
    "collapsed": true
   },
   "outputs": [],
   "source": []
  }
 ],
 "metadata": {
  "anaconda-cloud": {},
  "kernelspec": {
   "display_name": "Python [default]",
   "language": "python",
   "name": "python3"
  },
  "language_info": {
   "codemirror_mode": {
    "name": "ipython",
    "version": 3
   },
   "file_extension": ".py",
   "mimetype": "text/x-python",
   "name": "python",
   "nbconvert_exporter": "python",
   "pygments_lexer": "ipython3",
   "version": "3.5.2"
  }
 },
 "nbformat": 4,
 "nbformat_minor": 1
}
